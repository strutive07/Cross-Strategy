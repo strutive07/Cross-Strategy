{
 "cells": [
  {
   "cell_type": "code",
   "execution_count": 2,
   "id": "b88020d4-f075-42c9-962e-653e02740417",
   "metadata": {},
   "outputs": [],
   "source": [
    "from sympy.parsing.latex import parse_latex"
   ]
  },
  {
   "cell_type": "code",
   "execution_count": 73,
   "id": "ba3e9852-3393-49e3-b4ff-e2828b90e0ff",
   "metadata": {},
   "outputs": [],
   "source": [
    "final_answer = '\\(\\frac{9}{7}\\)'.replace('\\frac', '\\dfrac')"
   ]
  },
  {
   "cell_type": "code",
   "execution_count": 74,
   "id": "9dc1fbb9-92ab-4fd2-89e5-068a17fbfd7c",
   "metadata": {},
   "outputs": [
    {
     "data": {
      "text/plain": [
       "True"
      ]
     },
     "execution_count": 74,
     "metadata": {},
     "output_type": "execute_result"
    }
   ],
   "source": [
    "final_answer.startswith('\\(')"
   ]
  },
  {
   "cell_type": "code",
   "execution_count": 79,
   "id": "89a29422-f0ef-4312-84ca-291684ab5e82",
   "metadata": {},
   "outputs": [
    {
     "data": {
      "text/plain": [
       "'5.5.'"
      ]
     },
     "execution_count": 79,
     "metadata": {},
     "output_type": "execute_result"
    }
   ],
   "source": [
    "\"\"\"\\[\n",
    "     x = \\frac{8}{2} = 4.\n",
    "     \\]\"\"\"[2:-2].strip()"
   ]
  },
  {
   "cell_type": "code",
   "execution_count": 86,
   "id": "2cb7fd70-402e-4a60-bb97-3f2af1ae6b53",
   "metadata": {},
   "outputs": [
    {
     "name": "stdout",
     "output_type": "stream",
     "text": [
      "Original: 136.\\]\n",
      "Modified: 136.\n",
      "\n",
      "Original: 3\\]\n",
      "Modified: 3\n",
      "\n",
      "Original: 42.5]\n",
      "Modified: 42.5]\n",
      "\n",
      "Original: 123\n",
      "Modified: 123\n",
      "\n",
      "Original: Hello 123]\n",
      "Modified: Hello 123]\n",
      "\n",
      "Original: 456] World\n",
      "Modified: 456] World\n",
      "\n",
      "Original: 789]000\n",
      "Modified: 789]000\n",
      "\n",
      "Original: 12.34]\n",
      "Modified: 12.34]\n",
      "\n",
      "Original: 56.78]90\n",
      "Modified: 56.78]90\n",
      "\n",
      "Original: 12345\n",
      "Modified: 12345\n",
      "\n",
      "Original: 4.\\]\n",
      "Modified: 4.\n",
      "\n"
     ]
    }
   ],
   "source": [
    "import re\n",
    "\n",
    "def remove_end_bracket_pure_numeric(text):\n",
    "    pattern = r'^(\\d+\\.?\\d*)\\\\\\]$'\n",
    "    match = re.match(pattern, text)\n",
    "    if match:\n",
    "        return match.group(1)\n",
    "    return text\n",
    "\n",
    "# 테스트\n",
    "test_cases = [\n",
    "    \"136.\\]\",\n",
    "    \"3\\]\",\n",
    "    \"42.5]\",\n",
    "    \"123\",\n",
    "    \"Hello 123]\",\n",
    "    \"456] World\",\n",
    "    \"789]000\",\n",
    "    \"12.34]\",\n",
    "    \"56.78]90\",\n",
    "    \"12345\",\n",
    "    \"4.\\]\"\n",
    "]\n",
    "\n",
    "for case in test_cases:\n",
    "    print(f\"Original: {case}\")\n",
    "    print(f\"Modified: {remove_end_bracket_pure_numeric(case)}\")\n",
    "    print()"
   ]
  }
 ],
 "metadata": {
  "kernelspec": {
   "display_name": "rims",
   "language": "python",
   "name": "rims"
  },
  "language_info": {
   "codemirror_mode": {
    "name": "ipython",
    "version": 3
   },
   "file_extension": ".py",
   "mimetype": "text/x-python",
   "name": "python",
   "nbconvert_exporter": "python",
   "pygments_lexer": "ipython3",
   "version": "3.10.12"
  }
 },
 "nbformat": 4,
 "nbformat_minor": 5
}
