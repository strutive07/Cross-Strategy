{
 "cells": [
  {
   "cell_type": "code",
   "execution_count": 40,
   "id": "baa1603f-e31d-486a-a4fd-c9f30f8f1e37",
   "metadata": {},
   "outputs": [],
   "source": [
    "import json\n",
    "\n",
    "with open('/data/ovis_915/joel/opensource/rims/src/outputs/MATH-full_dt.math/gpt-4o-mini/cross_and_mix/n1_0.0_sg_raw_query_result.jsonl') as f:\n",
    "    data = [\n",
    "        json.loads(line)\n",
    "        for line in f.readlines()\n",
    "    ]\n",
    "    \n",
    "        "
   ]
  },
  {
   "cell_type": "code",
   "execution_count": 42,
   "id": "df084172-af42-4639-ba78-d4b5d25375cc",
   "metadata": {},
   "outputs": [
    {
     "data": {
      "text/plain": [
       "'To solve the equation \\\\(2^8 = 4^x\\\\) for \\\\(x\\\\), we can follow these steps:\\n\\n### Step-by-Step Solution:\\n\\n1. **Rewrite the Equation**:\\n   Start with the given equation:\\n   \\\\[\\n   2^8 = 4^x.\\n   \\\\]\\n\\n2. **Express \\\\(4\\\\) as a Power of \\\\(2\\\\)**:\\n   We know that \\\\(4\\\\) can be expressed as \\\\(2^2\\\\):\\n   \\\\[\\n   4 = 2^2.\\n   \\\\]\\n   Therefore, we can rewrite \\\\(4^x\\\\) as:\\n   \\\\[\\n   4^x = (2^2)^x.\\n   \\\\]\\n\\n3. **Apply the Power of a Power Property**:\\n   Using the property of exponents \\\\((a^m)^n = a^{m \\\\cdot n}\\\\), we can simplify:\\n   \\\\[\\n   (2^2)^x = 2^{2x}.\\n   \\\\]\\n\\n4. **Substitute Back into the Original Equation**:\\n   Now, substitute \\\\(4^x\\\\) back into the original equation:\\n   \\\\[\\n   2^8 = 2^{2x}.\\n   \\\\]\\n\\n5. **Set the Exponents Equal**:\\n   Since the bases are the same, we can set the exponents equal to each other:\\n   \\\\[\\n   8 = 2x.\\n   \\\\]\\n\\n6. **Solve for \\\\(x\\\\)**:\\n   To find \\\\(x\\\\), divide both sides by \\\\(2\\\\):\\n   \\\\[\\n   x = \\\\frac{8}{2} = 4.\\n   \\\\]\\n\\n### Final Answer:\\nThus, the value of \\\\(x\\\\) is:\\n\\\\[\\n\\\\boxed{4}.\\n\\\\]\\n\\n### Summary of the Process:\\n- Rewrite the equation using the same base.\\n- Simplify using properties of exponents.\\n- Set the exponents equal and solve for \\\\(x\\\\). \\n\\nThis method ensures clarity and correctness in finding the solution to the problem.'"
      ]
     },
     "execution_count": 42,
     "metadata": {},
     "output_type": "execute_result"
    }
   ],
   "source": []
  },
  {
   "cell_type": "code",
   "execution_count": null,
   "id": "46d2e725-47a6-4483-a631-3b54e7a5ab9d",
   "metadata": {},
   "outputs": [],
   "source": [
    "latex_pattern = (\n",
    "        r\"(?:\\\\\\[|\\\\\\(|\\$).+?(?:\\\\\\]|\\\\\\)|\\$)\"  # r'\\\\(?:\\[|\\().*?\\\\(?:\\]|\\))'\n",
    "    )"
   ]
  },
  {
   "cell_type": "code",
   "execution_count": 45,
   "id": "7dc978eb-71fd-41fc-8cb0-9e1141f27ebc",
   "metadata": {},
   "outputs": [
    {
     "data": {
      "text/plain": [
       "'\\nThus, the value of \\\\(x\\\\) is:\\n\\\\[\\n\\\\boxed{4}.\\n\\\\]\\n\\n### Summary of the Process:\\n- Rewrite the equation using the same base.\\n- Simplify using properties of exponents.\\n- Set the exponents equal and solve for \\\\(x\\\\). \\n\\nThis method ensures clarity and correctness in finding the solution to the problem.'"
      ]
     },
     "execution_count": 45,
     "metadata": {},
     "output_type": "execute_result"
    }
   ],
   "source": [
    "import re\n",
    "txt = data[1]['CrossAndMixQueryObject']['contents'][0].split('Final Answer:')[-1]\n",
    "txt"
   ]
  },
  {
   "cell_type": "code",
   "execution_count": 47,
   "id": "22f8545d-6658-4808-8322-dd4948ef7bb1",
   "metadata": {},
   "outputs": [
    {
     "data": {
      "text/plain": [
       "['\\\\(x\\\\)', '\\\\[\\n\\\\boxed{4}.\\n\\\\]', '\\\\(x\\\\)']"
      ]
     },
     "execution_count": 47,
     "metadata": {},
     "output_type": "execute_result"
    }
   ],
   "source": [
    "import re\n",
    "\n",
    "latex_pattern = (\n",
    "    r\"(?:\\\\\\[|\\\\\\(|\\$).+?(?:\\\\\\]|\\\\\\)|\\$)\"  # r'\\\\(?:\\[|\\().*?\\\\(?:\\]|\\))'\n",
    ")\n",
    "matches = re.findall(latex_pattern, txt, re.DOTALL)\n",
    "matches"
   ]
  }
 ],
 "metadata": {
  "kernelspec": {
   "display_name": "Python 3 (ipykernel)",
   "language": "python",
   "name": "python3"
  },
  "language_info": {
   "codemirror_mode": {
    "name": "ipython",
    "version": 3
   },
   "file_extension": ".py",
   "mimetype": "text/x-python",
   "name": "python",
   "nbconvert_exporter": "python",
   "pygments_lexer": "ipython3",
   "version": "3.10.12"
  }
 },
 "nbformat": 4,
 "nbformat_minor": 5
}
